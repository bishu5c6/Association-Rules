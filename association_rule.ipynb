{
 "cells": [
  {
   "cell_type": "code",
   "execution_count": 4,
   "metadata": {},
   "outputs": [],
   "source": [
    "import numpy as np\n",
    "import pandas as pd\n",
    "from mlxtend.frequent_patterns import apriori,association_rules\n",
    "#mlxtend is a python library of useful tools for the day to day data science tasks.."
   ]
  },
  {
   "cell_type": "code",
   "execution_count": 5,
   "metadata": {},
   "outputs": [],
   "source": [
    "#we are reading this file like to not to get parse error\n",
    "groceries = []\n",
    "with open(\"groceries.csv\") as f:\n",
    "    groceries = f.read()"
   ]
  },
  {
   "cell_type": "code",
   "execution_count": 6,
   "metadata": {},
   "outputs": [],
   "source": [
    "# splitting the data into separate transactions using separator as \"\\n\"\n",
    "groceries = groceries.split(\"\\n\")"
   ]
  },
  {
   "cell_type": "code",
   "execution_count": 7,
   "metadata": {},
   "outputs": [],
   "source": [
    "groceries_list = []\n",
    "for i in groceries:\n",
    "    groceries_list.append(i.split(\",\"))"
   ]
  },
  {
   "cell_type": "code",
   "execution_count": 8,
   "metadata": {},
   "outputs": [],
   "source": [
    "all_groceries_list = [i for item in groceries_list for i in item]"
   ]
  },
  {
   "cell_type": "code",
   "execution_count": 9,
   "metadata": {},
   "outputs": [],
   "source": [
    "from collections import Counter,OrderedDict"
   ]
  },
  {
   "cell_type": "code",
   "execution_count": 10,
   "metadata": {},
   "outputs": [],
   "source": [
    "item_frequencies = Counter(all_groceries_list)\n",
    "#it will gives how many items will give you at the purchase.."
   ]
  },
  {
   "cell_type": "code",
   "execution_count": 11,
   "metadata": {},
   "outputs": [],
   "source": [
    "# after sorting\n",
    "item_frequencies = sorted(item_frequencies.items(),key = lambda x:x[1])"
   ]
  },
  {
   "cell_type": "code",
   "execution_count": 12,
   "metadata": {},
   "outputs": [],
   "source": [
    "# Storing frequencies and items in separate variables \n",
    "frequencies = list(reversed([i[1] for i in item_frequencies]))\n",
    "items = list(reversed([i[0] for i in item_frequencies]))\n"
   ]
  },
  {
   "cell_type": "code",
   "execution_count": 17,
   "metadata": {},
   "outputs": [
    {
     "data": {
      "text/plain": [
       "Text(0, 0.5, 'Count')"
      ]
     },
     "execution_count": 17,
     "metadata": {},
     "output_type": "execute_result"
    },
    {
     "data": {
      "image/png": "[encoded data removed]",
      "text/plain": [
       "<Figure size 432x288 with 1 Axes>"
      ]
     },
     "metadata": {
      "needs_background": "light"
     },
     "output_type": "display_data"
    }
   ],
   "source": [
    "# barplot of top 10 \n",
    "\n",
    "import matplotlib.pyplot as plt\n",
    "\n",
    "plt.bar(height = frequencies[0:11],x = list(range(0,11)));plt.xticks(list(range(1,11),),items[1:11]);plt.xlabel(\"items\")\n",
    "plt.ylabel(\"Count\")"
   ]
  },
  {
   "cell_type": "code",
   "execution_count": 18,
   "metadata": {},
   "outputs": [],
   "source": [
    "# Creating Data Frame for the transactions data \n",
    "\n",
    "groceries_series  = pd.DataFrame(pd.Series(groceries_list))\n",
    "groceries_series = groceries_series.iloc[:9835,:] # removing the last empty transaction"
   ]
  },
  {
   "cell_type": "code",
   "execution_count": 19,
   "metadata": {},
   "outputs": [],
   "source": [
    "groceries_series.columns = [\"transactions\"]\n"
   ]
  },
  {
   "cell_type": "code",
   "execution_count": 20,
   "metadata": {},
   "outputs": [],
   "source": [
    "# creating a dummy columns for the each item in each transactions ... Using column names as item name\n",
    "X = groceries_series['transactions'].str.join(sep='*').str.get_dummies(sep='*')"
   ]
  },
  {
   "cell_type": "code",
   "execution_count": 21,
   "metadata": {},
   "outputs": [
    {
     "name": "stderr",
     "output_type": "stream",
     "text": [
      "e:\\Python\\lib\\site-packages\\mlxtend\\frequent_patterns\\fpcommon.py:111: DeprecationWarning: DataFrames with non-bool types result in worse computationalperformance and their support might be discontinued in the future.Please use a DataFrame with bool type\n",
      "  warnings.warn(\n"
     ]
    }
   ],
   "source": [
    "frequent_itemsets = apriori(X, min_support=0.005, max_len=3,use_colnames = True)"
   ]
  },
  {
   "cell_type": "code",
   "execution_count": 34,
   "metadata": {},
   "outputs": [
    {
     "data": {
      "text/plain": [
       "Text(0, 0.5, 'support')"
      ]
     },
     "execution_count": 34,
     "metadata": {},
     "output_type": "execute_result"
    },
    {
     "data": {
      "image/png": "[encoded data removed]",
      "text/plain": [
       "<Figure size 432x288 with 1 Axes>"
      ]
     },
     "metadata": {
      "needs_background": "light"
     },
     "output_type": "display_data"
    }
   ],
   "source": [
    "# Most Frequent item sets based on support \n",
    "frequent_itemsets.sort_values('support',ascending = False,inplace=True)\n",
    "plt.bar(list(range(0,11)),frequent_itemsets.support[0:11]);plt.xticks(list(range(0,11)),frequent_itemsets.itemsets[0:11])\n",
    "plt.xlabel('item-sets');plt.ylabel('support')\n"
   ]
  },
  {
   "cell_type": "code",
   "execution_count": 29,
   "metadata": {},
   "outputs": [
    {
     "data": {
      "text/html": [
       "<div>\n",
       "<style scoped>\n",
       "    .dataframe tbody tr th:only-of-type {\n",
       "        vertical-align: middle;\n",
       "    }\n",
       "\n",
       "    .dataframe tbody tr th {\n",
       "        vertical-align: top;\n",
       "    }\n",
       "\n",
       "    .dataframe thead th {\n",
       "        text-align: right;\n",
       "    }\n",
       "</style>\n",
       "<table border=\"1\" class=\"dataframe\">\n",
       "  <thead>\n",
       "    <tr style=\"text-align: right;\">\n",
       "      <th></th>\n",
       "      <th>antecedents</th>\n",
       "      <th>consequents</th>\n",
       "      <th>antecedent support</th>\n",
       "      <th>consequent support</th>\n",
       "      <th>support</th>\n",
       "      <th>confidence</th>\n",
       "      <th>lift</th>\n",
       "      <th>leverage</th>\n",
       "      <th>conviction</th>\n",
       "    </tr>\n",
       "  </thead>\n",
       "  <tbody>\n",
       "    <tr>\n",
       "      <th>2559</th>\n",
       "      <td>(ham)</td>\n",
       "      <td>(white bread)</td>\n",
       "      <td>0.026029</td>\n",
       "      <td>0.042095</td>\n",
       "      <td>0.005084</td>\n",
       "      <td>0.195312</td>\n",
       "      <td>4.639851</td>\n",
       "      <td>0.003988</td>\n",
       "      <td>1.190407</td>\n",
       "    </tr>\n",
       "    <tr>\n",
       "      <th>2558</th>\n",
       "      <td>(white bread)</td>\n",
       "      <td>(ham)</td>\n",
       "      <td>0.042095</td>\n",
       "      <td>0.026029</td>\n",
       "      <td>0.005084</td>\n",
       "      <td>0.120773</td>\n",
       "      <td>4.639851</td>\n",
       "      <td>0.003988</td>\n",
       "      <td>1.107758</td>\n",
       "    </tr>\n",
       "    <tr>\n",
       "      <th>2022</th>\n",
       "      <td>(whipped/sour cream)</td>\n",
       "      <td>(butter, other vegetables)</td>\n",
       "      <td>0.071683</td>\n",
       "      <td>0.020031</td>\n",
       "      <td>0.005796</td>\n",
       "      <td>0.080851</td>\n",
       "      <td>4.036397</td>\n",
       "      <td>0.004360</td>\n",
       "      <td>1.066171</td>\n",
       "    </tr>\n",
       "    <tr>\n",
       "      <th>2019</th>\n",
       "      <td>(butter, other vegetables)</td>\n",
       "      <td>(whipped/sour cream)</td>\n",
       "      <td>0.020031</td>\n",
       "      <td>0.071683</td>\n",
       "      <td>0.005796</td>\n",
       "      <td>0.289340</td>\n",
       "      <td>4.036397</td>\n",
       "      <td>0.004360</td>\n",
       "      <td>1.306275</td>\n",
       "    </tr>\n",
       "    <tr>\n",
       "      <th>1311</th>\n",
       "      <td>(root vegetables)</td>\n",
       "      <td>(herbs)</td>\n",
       "      <td>0.108998</td>\n",
       "      <td>0.016268</td>\n",
       "      <td>0.007016</td>\n",
       "      <td>0.064366</td>\n",
       "      <td>3.956477</td>\n",
       "      <td>0.005243</td>\n",
       "      <td>1.051406</td>\n",
       "    </tr>\n",
       "    <tr>\n",
       "      <th>1310</th>\n",
       "      <td>(herbs)</td>\n",
       "      <td>(root vegetables)</td>\n",
       "      <td>0.016268</td>\n",
       "      <td>0.108998</td>\n",
       "      <td>0.007016</td>\n",
       "      <td>0.431250</td>\n",
       "      <td>3.956477</td>\n",
       "      <td>0.005243</td>\n",
       "      <td>1.566596</td>\n",
       "    </tr>\n",
       "    <tr>\n",
       "      <th>2056</th>\n",
       "      <td>(root vegetables, other vegetables)</td>\n",
       "      <td>(onions)</td>\n",
       "      <td>0.047382</td>\n",
       "      <td>0.031012</td>\n",
       "      <td>0.005694</td>\n",
       "      <td>0.120172</td>\n",
       "      <td>3.875044</td>\n",
       "      <td>0.004225</td>\n",
       "      <td>1.101338</td>\n",
       "    </tr>\n",
       "    <tr>\n",
       "      <th>2057</th>\n",
       "      <td>(onions)</td>\n",
       "      <td>(root vegetables, other vegetables)</td>\n",
       "      <td>0.031012</td>\n",
       "      <td>0.047382</td>\n",
       "      <td>0.005694</td>\n",
       "      <td>0.183607</td>\n",
       "      <td>3.875044</td>\n",
       "      <td>0.004225</td>\n",
       "      <td>1.166862</td>\n",
       "    </tr>\n",
       "    <tr>\n",
       "      <th>2199</th>\n",
       "      <td>(tropical fruit)</td>\n",
       "      <td>(pip fruit, citrus fruit)</td>\n",
       "      <td>0.104931</td>\n",
       "      <td>0.013828</td>\n",
       "      <td>0.005592</td>\n",
       "      <td>0.053295</td>\n",
       "      <td>3.854060</td>\n",
       "      <td>0.004141</td>\n",
       "      <td>1.041688</td>\n",
       "    </tr>\n",
       "    <tr>\n",
       "      <th>2194</th>\n",
       "      <td>(pip fruit, citrus fruit)</td>\n",
       "      <td>(tropical fruit)</td>\n",
       "      <td>0.013828</td>\n",
       "      <td>0.104931</td>\n",
       "      <td>0.005592</td>\n",
       "      <td>0.404412</td>\n",
       "      <td>3.854060</td>\n",
       "      <td>0.004141</td>\n",
       "      <td>1.502831</td>\n",
       "    </tr>\n",
       "  </tbody>\n",
       "</table>\n",
       "</div>"
      ],
      "text/plain": [
       "                              antecedents  \\\n",
       "2559                                (ham)   \n",
       "2558                        (white bread)   \n",
       "2022                 (whipped/sour cream)   \n",
       "2019           (butter, other vegetables)   \n",
       "1311                    (root vegetables)   \n",
       "1310                              (herbs)   \n",
       "2056  (root vegetables, other vegetables)   \n",
       "2057                             (onions)   \n",
       "2199                     (tropical fruit)   \n",
       "2194            (pip fruit, citrus fruit)   \n",
       "\n",
       "                              consequents  antecedent support  \\\n",
       "2559                        (white bread)            0.026029   \n",
       "2558                                (ham)            0.042095   \n",
       "2022           (butter, other vegetables)            0.071683   \n",
       "2019                 (whipped/sour cream)            0.020031   \n",
       "1311                              (herbs)            0.108998   \n",
       "1310                    (root vegetables)            0.016268   \n",
       "2056                             (onions)            0.047382   \n",
       "2057  (root vegetables, other vegetables)            0.031012   \n",
       "2199            (pip fruit, citrus fruit)            0.104931   \n",
       "2194                     (tropical fruit)            0.013828   \n",
       "\n",
       "      consequent support   support  confidence      lift  leverage  conviction  \n",
       "2559            0.042095  0.005084    0.195312  4.639851  0.003988    1.190407  \n",
       "2558            0.026029  0.005084    0.120773  4.639851  0.003988    1.107758  \n",
       "2022            0.020031  0.005796    0.080851  4.036397  0.004360    1.066171  \n",
       "2019            0.071683  0.005796    0.289340  4.036397  0.004360    1.306275  \n",
       "1311            0.016268  0.007016    0.064366  3.956477  0.005243    1.051406  \n",
       "1310            0.108998  0.007016    0.431250  3.956477  0.005243    1.566596  \n",
       "2056            0.031012  0.005694    0.120172  3.875044  0.004225    1.101338  \n",
       "2057            0.047382  0.005694    0.183607  3.875044  0.004225    1.166862  \n",
       "2199            0.013828  0.005592    0.053295  3.854060  0.004141    1.041688  \n",
       "2194            0.104931  0.005592    0.404412  3.854060  0.004141    1.502831  "
      ]
     },
     "execution_count": 29,
     "metadata": {},
     "output_type": "execute_result"
    }
   ],
   "source": [
    "\n",
    "rules = association_rules(frequent_itemsets, metric=\"lift\", min_threshold=1)\n",
    "rules.head(20)\n",
    "rules.sort_values('lift',ascending = False).head(10)"
   ]
  },
  {
   "cell_type": "code",
   "execution_count": null,
   "metadata": {},
   "outputs": [],
   "source": []
  }
 ],
 "metadata": {
  "kernelspec": {
   "display_name": "Python 3.10.6 64-bit",
   "language": "python",
   "name": "python3"
  },
  "language_info": {
   "codemirror_mode": {
    "name": "ipython",
    "version": 3
   },
   "file_extension": ".py",
   "mimetype": "text/x-python",
   "name": "python",
   "nbconvert_exporter": "python",
   "pygments_lexer": "ipython3",
   "version": "3.10.6"
  },
  "orig_nbformat": 4,
  "vscode": {
   "interpreter": {
    "hash": "e450050b432e843bda3c41bf3272c133bfc370a7003f3e377e27f87a49ce1127"
   }
  }
 },
 "nbformat": 4,
 "nbformat_minor": 2
}
